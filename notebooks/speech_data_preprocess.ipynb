{
 "cells": [
  {
   "cell_type": "code",
   "execution_count": 1,
   "metadata": {},
   "outputs": [],
   "source": [
    "import os\n",
    "import numpy as np\n",
    "import pandas as pd\n",
    "from scipy.fftpack import fft\n",
    "from scipy.io import wavfile\n",
    "from sklearn.preprocessing import LabelEncoder, LabelBinarizer\n",
    "from python_speech_features import mfcc"
   ]
  },
  {
   "cell_type": "code",
   "execution_count": 2,
   "metadata": {},
   "outputs": [],
   "source": [
    "ROOT_DIR = os.path.normpath(os.path.join(os.path.dirname(os.path.realpath('__file__'))))\n",
    "DATA_DIR = os.path.join(ROOT_DIR, 'data_asr', 'data')\n",
    "DATA_INFO = os.path.join(ROOT_DIR, 'data_asr', 'data_info')"
   ]
  },
  {
   "cell_type": "code",
   "execution_count": 3,
   "metadata": {},
   "outputs": [],
   "source": [
    "window_len = 30\n",
    "data_list = []"
   ]
  },
  {
   "cell_type": "code",
   "execution_count": 4,
   "metadata": {},
   "outputs": [],
   "source": [
    "test_files = pd.read_csv(os.path.join(DATA_INFO, 'testing_list.txt'), sep = ' ', header = None)[0].tolist()\n",
    "val_files = pd.read_csv(os.path.join(DATA_INFO, 'validation_list.txt'), sep = ' ', header = None)[0].tolist()"
   ]
  },
  {
   "cell_type": "code",
   "execution_count": 5,
   "metadata": {},
   "outputs": [],
   "source": [
    "test_lab = [os.path.dirname(i) for i in test_files]\n",
    "val_lab = [os.path.dirname(i) for i in val_files]"
   ]
  },
  {
   "cell_type": "code",
   "execution_count": 6,
   "metadata": {},
   "outputs": [],
   "source": [
    "test_list = [os.path.join(DATA_DIR, f) for f in test_files if f.endswith('.wav')]\n",
    "val_list = [os.path.join(DATA_DIR, f) for f in val_files if f.endswith('.wav')]"
   ]
  },
  {
   "cell_type": "code",
   "execution_count": 7,
   "metadata": {},
   "outputs": [],
   "source": [
    "for root, dirs, files in os.walk(DATA_DIR):\n",
    "    data_list += [root + '/'+ f for f in files if f.endswith('.wav')]"
   ]
  },
  {
   "cell_type": "code",
   "execution_count": 8,
   "metadata": {},
   "outputs": [],
   "source": [
    "train_list = list(set(data_list) - set(test_list) - set(val_list))"
   ]
  },
  {
   "cell_type": "code",
   "execution_count": 9,
   "metadata": {},
   "outputs": [],
   "source": [
    "train_lab = [os.path.basename(os.path.dirname(i)) for i in train_list]"
   ]
  },
  {
   "cell_type": "code",
   "execution_count": 10,
   "metadata": {},
   "outputs": [],
   "source": [
    "lab = LabelEncoder()\n",
    "\n",
    "train_encode = lab.fit_transform(train_lab)\n",
    "y_encode = lab.fit_transform(train_encode)\n",
    "\n",
    "val_encode = lab.fit_transform(val_lab)\n",
    "yval_encode = lab.fit_transform(val_encode)\n",
    "\n",
    "test_encode = lab.fit_transform(test_lab)\n",
    "ytest_encode = lab.fit_transform(test_encode)"
   ]
  },
  {
   "cell_type": "code",
   "execution_count": 11,
   "metadata": {},
   "outputs": [],
   "source": [
    "lab_binarizer = LabelBinarizer()\n",
    "lab_binarizer.fit(range(len(np.unique(test_lab))))\n",
    "\n",
    "ytrain = lab_binarizer.transform(y_encode)\n",
    "yval = lab_binarizer.transform(yval_encode)\n",
    "ytest = lab_binarizer.transform(ytest_encode)"
   ]
  },
  {
   "cell_type": "code",
   "execution_count": 12,
   "metadata": {},
   "outputs": [],
   "source": [
    "samp_train, samp_val, samp_test, x_train, x_val, x_test = [], [], [], [], [], []\n",
    "\n",
    "for i in train_list:\n",
    "    samp_, x = wavfile.read(i)\n",
    "    samp_train.append(samp_)\n",
    "    x_train.append(x)\n",
    "    \n",
    "for i in val_list:\n",
    "    samp_, x = wavfile.read(i)\n",
    "    samp_val.append(samp_)\n",
    "    x_val.append(x)\n",
    "    \n",
    "for i in test_list:\n",
    "    samp_, x = wavfile.read(i)\n",
    "    samp_test.append(samp_)\n",
    "    x_test.append(x)"
   ]
  },
  {
   "cell_type": "code",
   "execution_count": 13,
   "metadata": {},
   "outputs": [],
   "source": [
    "xtrain_clean, xval_feat, xtest_feat = [], [], []\n",
    "\n",
    "for i in x_train:\n",
    "    xtrain_clean.append(mfcc(i, winlen = 0.03, numcep = 40, nfilt = 40))"
   ]
  }
 ],
 "metadata": {
  "kernelspec": {
   "display_name": "Python (asr)",
   "language": "python",
   "name": "asr"
  },
  "language_info": {
   "codemirror_mode": {
    "name": "ipython",
    "version": 3
   },
   "file_extension": ".py",
   "mimetype": "text/x-python",
   "name": "python",
   "nbconvert_exporter": "python",
   "pygments_lexer": "ipython3",
   "version": "3.6.8"
  }
 },
 "nbformat": 4,
 "nbformat_minor": 2
}
