{
 "cells": [
  {
   "cell_type": "code",
   "execution_count": null,
   "metadata": {},
   "outputs": [],
   "source": [
    "import os\n",
    "import numpy as np\n",
    "import pandas as pd\n",
    "from scipy.fftpack import fft\n",
    "from scipy.io import wavfile\n",
    "from sklearn.preprocessing import LabelEncoder, LabelBinarizer\n",
    "from python_speech_features import mfcc"
   ]
  },
  {
   "cell_type": "markdown",
   "metadata": {},
   "source": [
    "## Data used: Speech Commands Data Set v0.01"
   ]
  },
  {
   "cell_type": "code",
   "execution_count": null,
   "metadata": {},
   "outputs": [],
   "source": [
    "ROOT_DIR = os.path.normpath(os.path.join(os.path.dirname(os.path.realpath('__file__'))))\n",
    "DATA_DIR = os.path.join(ROOT_DIR, 'data_asr', 'data')\n",
    "DATA_INFO = os.path.join(ROOT_DIR, 'data_asr', 'data_info')"
   ]
  },
  {
   "cell_type": "code",
   "execution_count": null,
   "metadata": {},
   "outputs": [],
   "source": [
    "data_list = []"
   ]
  },
  {
   "cell_type": "code",
   "execution_count": null,
   "metadata": {},
   "outputs": [],
   "source": [
    "test_files = pd.read_csv(os.path.join(DATA_INFO, 'testing_list.txt'), sep = ' ', header = None)[0].tolist()\n",
    "val_files = pd.read_csv(os.path.join(DATA_INFO, 'validation_list.txt'), sep = ' ', header = None)[0].tolist()"
   ]
  },
  {
   "cell_type": "code",
   "execution_count": null,
   "metadata": {},
   "outputs": [],
   "source": [
    "test_lab = [os.path.dirname(i) for i in test_files]\n",
    "val_lab = [os.path.dirname(i) for i in val_files]"
   ]
  },
  {
   "cell_type": "code",
   "execution_count": null,
   "metadata": {},
   "outputs": [],
   "source": [
    "test_list = [os.path.join(DATA_DIR, f) for f in test_files if f.endswith('.wav')]\n",
    "val_list = [os.path.join(DATA_DIR, f) for f in val_files if f.endswith('.wav')]"
   ]
  },
  {
   "cell_type": "code",
   "execution_count": null,
   "metadata": {},
   "outputs": [],
   "source": [
    "for root, dirs, files in os.walk(DATA_DIR):\n",
    "    data_list += [root + '/'+ f for f in files if f.endswith('.wav')]"
   ]
  },
  {
   "cell_type": "code",
   "execution_count": null,
   "metadata": {},
   "outputs": [],
   "source": [
    "train_list = list(set(data_list) - set(test_list) - set(val_list))"
   ]
  },
  {
   "cell_type": "code",
   "execution_count": null,
   "metadata": {},
   "outputs": [],
   "source": [
    "train_lab = [os.path.basename(os.path.dirname(i)) for i in train_list]"
   ]
  },
  {
   "cell_type": "code",
   "execution_count": null,
   "metadata": {},
   "outputs": [],
   "source": [
    "lab = LabelEncoder()\n",
    "\n",
    "train_encode = lab.fit_transform(train_lab)\n",
    "y_encode = lab.fit_transform(train_encode)\n",
    "\n",
    "val_encode = lab.fit_transform(val_lab)\n",
    "yval_encode = lab.fit_transform(val_encode)\n",
    "\n",
    "test_encode = lab.fit_transform(test_lab)\n",
    "ytest_encode = lab.fit_transform(test_encode)"
   ]
  },
  {
   "cell_type": "code",
   "execution_count": null,
   "metadata": {},
   "outputs": [],
   "source": [
    "lab_binarizer = LabelBinarizer()\n",
    "lab_binarizer.fit(range(len(np.unique(test_lab))))\n",
    "\n",
    "ytrain = lab_binarizer.transform(y_encode)\n",
    "yval = lab_binarizer.transform(yval_encode)\n",
    "ytest = lab_binarizer.transform(ytest_encode)"
   ]
  },
  {
   "cell_type": "code",
   "execution_count": null,
   "metadata": {},
   "outputs": [],
   "source": [
    "def wav2np(wav_list):\n",
    "    \n",
    "    samp_list, x_data = [], []\n",
    "    \n",
    "    for i in wav_list:\n",
    "        samp_, x = wavfile.read(i)\n",
    "        samp_list.append(samp_)\n",
    "        x_data.append(x)\n",
    "        \n",
    "    return samp_list, x_data"
   ]
  },
  {
   "cell_type": "code",
   "execution_count": null,
   "metadata": {},
   "outputs": [],
   "source": [
    "samp_train, x_train = wav2np(train_list)\n",
    "samp_val, x_val = wav2np(val_list)\n",
    "samp_test, x_test = wav2np(test_list)"
   ]
  },
  {
   "cell_type": "code",
   "execution_count": null,
   "metadata": {},
   "outputs": [],
   "source": [
    "#Zero padding function for data with less than 16000 samples\n",
    "def len_pad(arr):\n",
    "    \n",
    "    arr_list = []\n",
    "    for i in arr:\n",
    "        arr_list.append([j for j in i])\n",
    "        \n",
    "    for i in arr_list:\n",
    "        if len(i) >= 16000:\n",
    "            i = i[:16000]\n",
    "        else:\n",
    "            i.extend([0] * (16000 - len(i)))\n",
    "            \n",
    "    return np.asarray(arr_list)"
   ]
  },
  {
   "cell_type": "code",
   "execution_count": null,
   "metadata": {},
   "outputs": [],
   "source": [
    "x_test1 = len_pad(x_test)"
   ]
  },
  {
   "cell_type": "code",
   "execution_count": null,
   "metadata": {},
   "outputs": [],
   "source": [
    "x_test1.shape"
   ]
  },
  {
   "cell_type": "code",
   "execution_count": null,
   "metadata": {},
   "outputs": [],
   "source": [
    "x_val1 = len_pad(x_val)"
   ]
  },
  {
   "cell_type": "code",
   "execution_count": null,
   "metadata": {},
   "outputs": [],
   "source": [
    "x_val1.shape"
   ]
  },
  {
   "cell_type": "code",
   "execution_count": null,
   "metadata": {},
   "outputs": [],
   "source": [
    "x_train1 = len_pad(x_train)"
   ]
  },
  {
   "cell_type": "code",
   "execution_count": null,
   "metadata": {},
   "outputs": [],
   "source": [
    "x_train1.shape"
   ]
  },
  {
   "cell_type": "code",
   "execution_count": null,
   "metadata": {},
   "outputs": [],
   "source": [
    "np.save('asr_train.npy', x_train1)"
   ]
  },
  {
   "cell_type": "code",
   "execution_count": null,
   "metadata": {},
   "outputs": [],
   "source": [
    "np.save('asr_val.npy', x_val1)"
   ]
  },
  {
   "cell_type": "code",
   "execution_count": null,
   "metadata": {},
   "outputs": [],
   "source": [
    "np.save('asr_test.npy', x_test1)"
   ]
  },
  {
   "cell_type": "markdown",
   "metadata": {},
   "source": [
    "## Load and pre-process array individually to save memory"
   ]
  },
  {
   "cell_type": "code",
   "execution_count": null,
   "metadata": {},
   "outputs": [],
   "source": [
    "#x_train = np.load('asr_train.npy')"
   ]
  },
  {
   "cell_type": "code",
   "execution_count": null,
   "metadata": {},
   "outputs": [],
   "source": [
    "#x_val = np.load('asr_val.npy')"
   ]
  },
  {
   "cell_type": "code",
   "execution_count": null,
   "metadata": {},
   "outputs": [],
   "source": [
    "x_test = np.load('asr_test.npy')"
   ]
  },
  {
   "cell_type": "code",
   "execution_count": null,
   "metadata": {},
   "outputs": [],
   "source": [
    "#Returns mfcc features of shape (98, 40)\n",
    "def mfcc_gen(arr):\n",
    "    \n",
    "    arr_clean = []\n",
    "    for i in arr:\n",
    "        arr_clean.append(mfcc(i, winlen = 0.03, numcep = 40, nfilt = 40))\n",
    "        \n",
    "    return np.asarray(arr_clean)"
   ]
  },
  {
   "cell_type": "code",
   "execution_count": null,
   "metadata": {},
   "outputs": [],
   "source": [
    "#train_feat = mfcc_gen(x_train)"
   ]
  },
  {
   "cell_type": "code",
   "execution_count": null,
   "metadata": {},
   "outputs": [],
   "source": [
    "#np.save('train_feat.npy', train_feat)"
   ]
  },
  {
   "cell_type": "code",
   "execution_count": null,
   "metadata": {},
   "outputs": [],
   "source": [
    "#val_feat = mfcc_gen(x_val)"
   ]
  },
  {
   "cell_type": "code",
   "execution_count": null,
   "metadata": {},
   "outputs": [],
   "source": [
    "#np.save('val_feat.npy', val_feat)"
   ]
  },
  {
   "cell_type": "code",
   "execution_count": null,
   "metadata": {},
   "outputs": [],
   "source": [
    "test_feat = mfcc_gen(x_test)"
   ]
  },
  {
   "cell_type": "code",
   "execution_count": null,
   "metadata": {},
   "outputs": [],
   "source": [
    "test_feat.shape"
   ]
  },
  {
   "cell_type": "code",
   "execution_count": null,
   "metadata": {},
   "outputs": [],
   "source": [
    "np.save('test_feat.npy', test_feat)"
   ]
  }
 ],
 "metadata": {
  "kernelspec": {
   "display_name": "Python (asr)",
   "language": "python",
   "name": "asr"
  },
  "language_info": {
   "codemirror_mode": {
    "name": "ipython",
    "version": 3
   },
   "file_extension": ".py",
   "mimetype": "text/x-python",
   "name": "python",
   "nbconvert_exporter": "python",
   "pygments_lexer": "ipython3",
   "version": "3.6.8"
  }
 },
 "nbformat": 4,
 "nbformat_minor": 2
}
