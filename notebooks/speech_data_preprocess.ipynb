{
 "cells": [
  {
   "cell_type": "code",
   "execution_count": null,
   "metadata": {},
   "outputs": [],
   "source": [
    "import os\n",
    "import numpy as np\n",
    "import pandas as pd\n",
    "#import matplotlib.pyplot as plt\n",
    "#from keras.utils import to_categorical\n",
    "#from scipy.fftpack import fft\n",
    "from scipy.io import wavfile\n",
    "#from sklearn.preprocessing import LabelEncoder\n",
    "from python_speech_features import mfcc"
   ]
  },
  {
   "cell_type": "markdown",
   "metadata": {},
   "source": [
    "## Data used: Speech Commands Data Set v0.02"
   ]
  },
  {
   "cell_type": "code",
   "execution_count": null,
   "metadata": {},
   "outputs": [],
   "source": [
    "ROOT_DIR = os.path.normpath(os.path.join(os.path.dirname(os.path.realpath('__file__'))))\n",
    "DATA_DIR = os.path.abspath('/data/aumkar/data_asr/data')\n",
    "DATA_INFO = os.path.abspath('/data/aumkar/data_asr/data_info')\n",
    "FEATURES_PATH = os.path.abspath('/data/aumkar/data_asr/features')"
   ]
  },
  {
   "cell_type": "code",
   "execution_count": null,
   "metadata": {},
   "outputs": [],
   "source": [
    "data_list = []"
   ]
  },
  {
   "cell_type": "code",
   "execution_count": null,
   "metadata": {},
   "outputs": [],
   "source": [
    "test_files = pd.read_csv(os.path.join(DATA_INFO, 'testing_list.txt'), sep = ' ', header = None)[0].tolist()\n",
    "val_files = pd.read_csv(os.path.join(DATA_INFO, 'validation_list.txt'), sep = ' ', header = None)[0].tolist()"
   ]
  },
  {
   "cell_type": "code",
   "execution_count": null,
   "metadata": {},
   "outputs": [],
   "source": [
    "test_lab = [os.path.dirname(i) for i in test_files]\n",
    "val_lab = [os.path.dirname(i) for i in val_files]"
   ]
  },
  {
   "cell_type": "code",
   "execution_count": null,
   "metadata": {},
   "outputs": [],
   "source": [
    "test_list = [os.path.join(DATA_DIR, f) for f in test_files if f.endswith('.wav')]\n",
    "val_list = [os.path.join(DATA_DIR, f) for f in val_files if f.endswith('.wav')]"
   ]
  },
  {
   "cell_type": "code",
   "execution_count": null,
   "metadata": {},
   "outputs": [],
   "source": [
    "for root, dirs, files in os.walk(DATA_DIR):\n",
    "    data_list += [root + '/'+ f for f in files if f.endswith('.wav')]"
   ]
  },
  {
   "cell_type": "code",
   "execution_count": null,
   "metadata": {},
   "outputs": [],
   "source": [
    "train_list = list(set(data_list) - set(test_list) - set(val_list))"
   ]
  },
  {
   "cell_type": "code",
   "execution_count": null,
   "metadata": {},
   "outputs": [],
   "source": [
    "train_lab = [os.path.basename(os.path.dirname(i)) for i in train_list]"
   ]
  },
  {
   "cell_type": "code",
   "execution_count": null,
   "metadata": {},
   "outputs": [],
   "source": [
    "lab = LabelEncoder()"
   ]
  },
  {
   "cell_type": "code",
   "execution_count": null,
   "metadata": {},
   "outputs": [],
   "source": [
    "train_encode = lab.fit_transform(train_lab)\n",
    "y_encode = lab.fit_transform(train_encode)"
   ]
  },
  {
   "cell_type": "code",
   "execution_count": null,
   "metadata": {},
   "outputs": [],
   "source": [
    "val_encode = lab.fit_transform(val_lab)\n",
    "yval_encode = lab.fit_transform(val_encode)\n",
    "\n",
    "test_encode = lab.fit_transform(test_lab)\n",
    "ytest_encode = lab.fit_transform(test_encode)"
   ]
  },
  {
   "cell_type": "code",
   "execution_count": null,
   "metadata": {},
   "outputs": [],
   "source": [
    "ytrain = to_categorical(y_encode)\n",
    "yval = to_categorical(yval_encode)\n",
    "ytest = to_categorical(ytest_encode)"
   ]
  },
  {
   "cell_type": "code",
   "execution_count": null,
   "metadata": {},
   "outputs": [],
   "source": [
    "(ytrain.shape, yval.shape, ytest.shape)"
   ]
  },
  {
   "cell_type": "code",
   "execution_count": null,
   "metadata": {},
   "outputs": [],
   "source": [
    "np.save('ytrain.npy', ytrain)"
   ]
  },
  {
   "cell_type": "code",
   "execution_count": null,
   "metadata": {},
   "outputs": [],
   "source": [
    "np.save('yval.npy', yval)"
   ]
  },
  {
   "cell_type": "code",
   "execution_count": null,
   "metadata": {},
   "outputs": [],
   "source": [
    "np.save('ytest.npy', ytest)"
   ]
  },
  {
   "cell_type": "code",
   "execution_count": null,
   "metadata": {},
   "outputs": [],
   "source": [
    "def scale_(x1, scale_factor = 0.1):\n",
    "    \n",
    "    x_ = np.reshape(x1, (x1.shape[0], 1))\n",
    "    \n",
    "    scaling = np.random.normal(loc = 1.0, scale = scale_factor, size=(1, x_.shape[1]))\n",
    "    x_noise = np.matmul(np.ones((x_.shape[0], 1)), scaling)\n",
    "    \n",
    "    x_scale = x_ * x_noise\n",
    "    \n",
    "    x_scale1 = [i for i in np.reshape(x_scale, (x_scale.shape[0]))]\n",
    "    \n",
    "    return np.asarray(x_scale1)"
   ]
  },
  {
   "cell_type": "code",
   "execution_count": null,
   "metadata": {},
   "outputs": [],
   "source": [
    "def jitter(x, sigma = 0.05):\n",
    "    x_noise = np.random.normal(loc = 0, scale = sigma, size = x.shape)\n",
    "    \n",
    "    return np.asarray([i for i in (x + x_noise)])"
   ]
  },
  {
   "cell_type": "code",
   "execution_count": null,
   "metadata": {},
   "outputs": [],
   "source": [
    "#Function taken from https://github.com/PJansson/speech/blob/master/utils/data.py\n",
    "def timeshift(x, max_shift = 0.2):\n",
    "    shift = np.random.uniform(-max_shift, max_shift)\n",
    "    shift = int(len(x) * shift)\n",
    "    if shift > 0:\n",
    "        padded = np.pad(x, (shift, 0), \"constant\")\n",
    "        return np.asarray(padded[:len(x)])\n",
    "    else:\n",
    "        padded = np.pad(x, (0, -shift), \"constant\")\n",
    "        return np.asarray(padded[-len(x):])"
   ]
  },
  {
   "cell_type": "code",
   "execution_count": null,
   "metadata": {},
   "outputs": [],
   "source": [
    "#Wav to numpy\n",
    "def wav2np(wav_list):\n",
    "    \n",
    "    samp_list, x_data = [], []\n",
    "    \n",
    "    for i in wav_list:\n",
    "        samp_, x = wavfile.read(i)\n",
    "            \n",
    "        samp_list.append(samp_)\n",
    "        x_data.append(x)\n",
    "        \n",
    "    return samp_list, x_data"
   ]
  },
  {
   "cell_type": "code",
   "execution_count": null,
   "metadata": {},
   "outputs": [],
   "source": [
    "samp_train, x_train = wav2np(train_list)\n",
    "#samp_val, x_val = wav2np(val_list)\n",
    "#samp_test, x_test = wav2np(test_list)"
   ]
  },
  {
   "cell_type": "code",
   "execution_count": null,
   "metadata": {},
   "outputs": [],
   "source": [
    "len(x_train)"
   ]
  },
  {
   "cell_type": "code",
   "execution_count": null,
   "metadata": {},
   "outputs": [],
   "source": [
    "np.save(os.path.join(FEATURES_PATH, 'asr_train.npy'), np.asarray(x_train))"
   ]
  },
  {
   "cell_type": "code",
   "execution_count": null,
   "metadata": {},
   "outputs": [],
   "source": [
    "np.save('asr_val', np.asarray(x_val))"
   ]
  },
  {
   "cell_type": "code",
   "execution_count": null,
   "metadata": {},
   "outputs": [],
   "source": [
    "np.save('asr_test', np.asarray(x_test))"
   ]
  },
  {
   "cell_type": "code",
   "execution_count": null,
   "metadata": {},
   "outputs": [],
   "source": [
    "x_train = np.load(os.path.join(FEATURES_PATH, 'asr_train.npy'))"
   ]
  },
  {
   "cell_type": "code",
   "execution_count": null,
   "metadata": {},
   "outputs": [],
   "source": [
    "y_train = np.load('ytrain.npy')"
   ]
  },
  {
   "cell_type": "code",
   "execution_count": null,
   "metadata": {},
   "outputs": [],
   "source": [
    "plt.figure()\n",
    "plt.plot(x_train[1])\n",
    "plt.xlabel('Number of samples')\n",
    "plt.ylabel('Amplitude')\n",
    "plt.title('Raw speech signal')\n",
    "plt.show()"
   ]
  },
  {
   "cell_type": "code",
   "execution_count": null,
   "metadata": {},
   "outputs": [],
   "source": [
    "#Data augmentation function\n",
    "def augment(data, lab2):\n",
    "    \n",
    "    x_data = []\n",
    "    label_ = np.empty((0, 35))\n",
    "    \n",
    "    for i, j in zip(data, lab2):\n",
    "        \n",
    "        x_data.append(scale_(i))\n",
    "        label_ = np.append(label_, np.reshape(j, (1, 35)), axis = 0)\n",
    "        x_data.append(jitter(i))\n",
    "        label_ = np.append(label_, np.reshape(j, (1, 35)), axis = 0)\n",
    "        \n",
    "        if np.random.choice([True, False]):\n",
    "            x_data.append(timeshift(i))\n",
    "            label_ = np.append(label_, np.reshape(j, (1, 35)), axis = 0)\n",
    "            \n",
    "    return x_data, label_"
   ]
  },
  {
   "cell_type": "code",
   "execution_count": null,
   "metadata": {},
   "outputs": [],
   "source": [
    "x_train1 = x_train[56562:]\n",
    "lab1 = y_train[56562:]"
   ]
  },
  {
   "cell_type": "code",
   "execution_count": null,
   "metadata": {},
   "outputs": [],
   "source": [
    "(len(x_train1), len(lab1))"
   ]
  },
  {
   "cell_type": "code",
   "execution_count": null,
   "metadata": {},
   "outputs": [],
   "source": [
    "aug1, ytrain1 = augment(x_train1, lab1)"
   ]
  },
  {
   "cell_type": "code",
   "execution_count": null,
   "metadata": {},
   "outputs": [],
   "source": [
    "ytrain1.shape"
   ]
  },
  {
   "cell_type": "code",
   "execution_count": null,
   "metadata": {},
   "outputs": [],
   "source": [
    "len(aug1)"
   ]
  },
  {
   "cell_type": "code",
   "execution_count": null,
   "metadata": {},
   "outputs": [],
   "source": [
    "#Returns mfcc features of shape (98, 40)\n",
    "def mfcc_gen(arr):\n",
    "    return mfcc(arr, winlen = 0.03, numcep = 40, nfilt = 40)"
   ]
  },
  {
   "cell_type": "code",
   "execution_count": null,
   "metadata": {},
   "outputs": [],
   "source": [
    "#Zero padding function for data to get all the features in the same input shape\n",
    "def len_pad(arr):\n",
    "\n",
    "    if len(arr) == 98:\n",
    "        return arr\n",
    "    else:\n",
    "        stack = (98 - len(arr), 40)     \n",
    "        return np.vstack((arr, np.zeros(stack)))"
   ]
  },
  {
   "cell_type": "code",
   "execution_count": null,
   "metadata": {},
   "outputs": [],
   "source": [
    "def data_preprocess(x):\n",
    "    \n",
    "    feature = []\n",
    "    for i in x:\n",
    "        mfccs = mfcc_gen(i)\n",
    "        feature.append(len_pad(mfccs))\n",
    "        \n",
    "    return np.asarray(feature)"
   ]
  },
  {
   "cell_type": "markdown",
   "metadata": {},
   "source": [
    "## Load and pre-process array individually to save memory"
   ]
  },
  {
   "cell_type": "code",
   "execution_count": null,
   "metadata": {},
   "outputs": [],
   "source": [
    "train_feat = data_preprocess(aug1)"
   ]
  },
  {
   "cell_type": "code",
   "execution_count": null,
   "metadata": {
    "scrolled": true
   },
   "outputs": [],
   "source": [
    "train_feat.shape"
   ]
  },
  {
   "cell_type": "code",
   "execution_count": null,
   "metadata": {},
   "outputs": [],
   "source": [
    "np.save(os.path.join(FEATURES_PATH, 'train_feat3.npy'), train_feat)"
   ]
  },
  {
   "cell_type": "code",
   "execution_count": null,
   "metadata": {},
   "outputs": [],
   "source": [
    "np.save(os.path.join(FEATURES_PATH, 'ytrain3.npy'), ytrain1)"
   ]
  },
  {
   "cell_type": "code",
   "execution_count": null,
   "metadata": {},
   "outputs": [],
   "source": [
    "val_feat = data_preprocess(x_val)"
   ]
  },
  {
   "cell_type": "code",
   "execution_count": null,
   "metadata": {},
   "outputs": [],
   "source": [
    "val_feat.shape"
   ]
  },
  {
   "cell_type": "code",
   "execution_count": null,
   "metadata": {},
   "outputs": [],
   "source": [
    "np.save(os.path.join(FEATURES_PATH, 'val_feat.npy'), val_feat)"
   ]
  },
  {
   "cell_type": "code",
   "execution_count": null,
   "metadata": {},
   "outputs": [],
   "source": [
    "test_feat = data_preprocess(x_test)"
   ]
  },
  {
   "cell_type": "code",
   "execution_count": null,
   "metadata": {},
   "outputs": [],
   "source": [
    "test_feat.shape"
   ]
  },
  {
   "cell_type": "code",
   "execution_count": null,
   "metadata": {},
   "outputs": [],
   "source": [
    "np.save(os.path.join(FEATURES_PATH, 'test_feat.npy'), test_feat)"
   ]
  }
 ],
 "metadata": {
  "kernelspec": {
   "display_name": "Python (asr)",
   "language": "python",
   "name": "asr"
  },
  "language_info": {
   "codemirror_mode": {
    "name": "ipython",
    "version": 3
   },
   "file_extension": ".py",
   "mimetype": "text/x-python",
   "name": "python",
   "nbconvert_exporter": "python",
   "pygments_lexer": "ipython3",
   "version": "3.6.8"
  }
 },
 "nbformat": 4,
 "nbformat_minor": 2
}
