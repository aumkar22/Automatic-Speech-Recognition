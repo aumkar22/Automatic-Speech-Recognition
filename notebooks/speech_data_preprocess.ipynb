{
 "cells": [
  {
   "cell_type": "code",
   "execution_count": 1,
   "metadata": {},
   "outputs": [
    {
     "name": "stderr",
     "output_type": "stream",
     "text": [
      "Using TensorFlow backend.\n"
     ]
    }
   ],
   "source": [
    "import os\n",
    "import numpy as np\n",
    "import pandas as pd\n",
    "import matplotlib.pyplot as plt\n",
    "import pdb\n",
    "from keras.utils import to_categorical\n",
    "from scipy.fftpack import fft\n",
    "from scipy.io import wavfile\n",
    "from sklearn.preprocessing import LabelEncoder\n",
    "from python_speech_features import mfcc"
   ]
  },
  {
   "cell_type": "markdown",
   "metadata": {},
   "source": [
    "## Data used: Speech Commands Data Set v0.01"
   ]
  },
  {
   "cell_type": "code",
   "execution_count": 2,
   "metadata": {},
   "outputs": [],
   "source": [
    "ROOT_DIR = os.path.normpath(os.path.join(os.path.dirname(os.path.realpath('__file__'))))\n",
    "DATA_DIR = os.path.join(ROOT_DIR, 'data_asr', 'data')\n",
    "DATA_INFO = os.path.join(ROOT_DIR, 'data_asr', 'data_info')"
   ]
  },
  {
   "cell_type": "code",
   "execution_count": 3,
   "metadata": {},
   "outputs": [],
   "source": [
    "data_list = []"
   ]
  },
  {
   "cell_type": "code",
   "execution_count": 4,
   "metadata": {},
   "outputs": [],
   "source": [
    "test_files = pd.read_csv(os.path.join(DATA_INFO, 'testing_list.txt'), sep = ' ', header = None)[0].tolist()\n",
    "val_files = pd.read_csv(os.path.join(DATA_INFO, 'validation_list.txt'), sep = ' ', header = None)[0].tolist()"
   ]
  },
  {
   "cell_type": "code",
   "execution_count": 5,
   "metadata": {},
   "outputs": [],
   "source": [
    "test_lab = [os.path.dirname(i) for i in test_files]\n",
    "val_lab = [os.path.dirname(i) for i in val_files]"
   ]
  },
  {
   "cell_type": "code",
   "execution_count": 6,
   "metadata": {},
   "outputs": [],
   "source": [
    "test_list = [os.path.join(DATA_DIR, f) for f in test_files if f.endswith('.wav')]\n",
    "val_list = [os.path.join(DATA_DIR, f) for f in val_files if f.endswith('.wav')]"
   ]
  },
  {
   "cell_type": "code",
   "execution_count": 7,
   "metadata": {},
   "outputs": [],
   "source": [
    "for root, dirs, files in os.walk(DATA_DIR):\n",
    "    data_list += [root + '/'+ f for f in files if f.endswith('.wav')]"
   ]
  },
  {
   "cell_type": "code",
   "execution_count": 8,
   "metadata": {},
   "outputs": [],
   "source": [
    "train_list = list(set(data_list) - set(test_list) - set(val_list))"
   ]
  },
  {
   "cell_type": "code",
   "execution_count": null,
   "metadata": {},
   "outputs": [],
   "source": [
    "train_lab = [os.path.basename(os.path.dirname(i)) for i in train_list]"
   ]
  },
  {
   "cell_type": "code",
   "execution_count": null,
   "metadata": {},
   "outputs": [],
   "source": [
    "lab = LabelEncoder()\n",
    "\n",
    "train_encode = lab.fit_transform(train_lab)\n",
    "y_encode = lab.fit_transform(train_encode)\n",
    "\n",
    "val_encode = lab.fit_transform(val_lab)\n",
    "yval_encode = lab.fit_transform(val_encode)\n",
    "\n",
    "test_encode = lab.fit_transform(test_lab)\n",
    "ytest_encode = lab.fit_transform(test_encode)"
   ]
  },
  {
   "cell_type": "code",
   "execution_count": null,
   "metadata": {},
   "outputs": [],
   "source": [
    "ytrain = to_categorical(y_encode)\n",
    "yval = to_categorical(yval_encode)\n",
    "ytest = to_categorical(ytest_encode)"
   ]
  },
  {
   "cell_type": "code",
   "execution_count": null,
   "metadata": {},
   "outputs": [],
   "source": [
    "(ytrain.shape, yval.shape, ytest.shape)"
   ]
  },
  {
   "cell_type": "code",
   "execution_count": null,
   "metadata": {},
   "outputs": [],
   "source": [
    "np.save('ytrain.npy', ytrain)"
   ]
  },
  {
   "cell_type": "code",
   "execution_count": null,
   "metadata": {},
   "outputs": [],
   "source": [
    "np.save('yval.npy', yval)"
   ]
  },
  {
   "cell_type": "code",
   "execution_count": null,
   "metadata": {},
   "outputs": [],
   "source": [
    "np.save('ytest.npy', ytest)"
   ]
  },
  {
   "cell_type": "code",
   "execution_count": 9,
   "metadata": {},
   "outputs": [],
   "source": [
    "def wav2np(wav_list):\n",
    "    \n",
    "    samp_list, x_data = [], []\n",
    "    \n",
    "    for i in wav_list:\n",
    "        samp_, x = wavfile.read(i)\n",
    "        samp_list.append(samp_)\n",
    "        x_data.append(x)\n",
    "        \n",
    "    return samp_list, x_data"
   ]
  },
  {
   "cell_type": "code",
   "execution_count": 10,
   "metadata": {},
   "outputs": [],
   "source": [
    "samp_train, x_train = wav2np(train_list)\n",
    "samp_val, x_val = wav2np(val_list)\n",
    "samp_test, x_test = wav2np(test_list)"
   ]
  },
  {
   "cell_type": "code",
   "execution_count": 11,
   "metadata": {},
   "outputs": [],
   "source": [
    "#Returns mfcc features of shape (98, 40)\n",
    "def mfcc_gen(arr):\n",
    "    return mfcc(arr, winlen = 0.03, numcep = 40, nfilt = 40)"
   ]
  },
  {
   "cell_type": "code",
   "execution_count": 12,
   "metadata": {},
   "outputs": [],
   "source": [
    "#Zero padding function for data to get all the features in the same input shape\n",
    "def len_pad(arr):\n",
    "\n",
    "    if len(arr) == 98:\n",
    "        return arr\n",
    "    else:\n",
    "        stack = (98 - len(arr), 40)     \n",
    "        return np.vstack((arr, np.zeros(stack)))"
   ]
  },
  {
   "cell_type": "code",
   "execution_count": 13,
   "metadata": {},
   "outputs": [],
   "source": [
    "def data_preprocess(x):\n",
    "    \n",
    "    feature = []\n",
    "    for i in x:\n",
    "        mfccs = mfcc_gen(i)\n",
    "        feature.append(len_pad(mfccs))\n",
    "        \n",
    "    return np.asarray(feature)"
   ]
  },
  {
   "cell_type": "markdown",
   "metadata": {},
   "source": [
    "## Load and pre-process array individually to save memory"
   ]
  },
  {
   "cell_type": "code",
   "execution_count": 14,
   "metadata": {},
   "outputs": [],
   "source": [
    "train_feat = data_preprocess(x_train)"
   ]
  },
  {
   "cell_type": "code",
   "execution_count": 15,
   "metadata": {},
   "outputs": [
    {
     "data": {
      "text/plain": [
       "(51088, 98, 40)"
      ]
     },
     "execution_count": 15,
     "metadata": {},
     "output_type": "execute_result"
    }
   ],
   "source": [
    "train_feat.shape"
   ]
  },
  {
   "cell_type": "code",
   "execution_count": 16,
   "metadata": {},
   "outputs": [],
   "source": [
    "np.save('train_feat.npy', train_feat)"
   ]
  },
  {
   "cell_type": "code",
   "execution_count": 17,
   "metadata": {},
   "outputs": [],
   "source": [
    "val_feat = data_preprocess(x_val)"
   ]
  },
  {
   "cell_type": "code",
   "execution_count": 18,
   "metadata": {},
   "outputs": [],
   "source": [
    "np.save('val_feat.npy', val_feat)"
   ]
  },
  {
   "cell_type": "code",
   "execution_count": 19,
   "metadata": {},
   "outputs": [],
   "source": [
    "test_feat = data_preprocess(x_test)"
   ]
  },
  {
   "cell_type": "code",
   "execution_count": 20,
   "metadata": {},
   "outputs": [],
   "source": [
    "np.save('test_feat.npy', test_feat)"
   ]
  }
 ],
 "metadata": {
  "kernelspec": {
   "display_name": "Python (asr)",
   "language": "python",
   "name": "asr"
  },
  "language_info": {
   "codemirror_mode": {
    "name": "ipython",
    "version": 3
   },
   "file_extension": ".py",
   "mimetype": "text/x-python",
   "name": "python",
   "nbconvert_exporter": "python",
   "pygments_lexer": "ipython3",
   "version": "3.6.8"
  }
 },
 "nbformat": 4,
 "nbformat_minor": 2
}
